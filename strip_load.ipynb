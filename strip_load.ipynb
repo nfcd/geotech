{
 "cells": [
  {
   "cell_type": "code",
   "execution_count": null,
   "id": "353311bb",
   "metadata": {},
   "outputs": [],
   "source": [
    "# run this cell if groundhog is not installed\n",
    "import sys\n",
    "!{sys.executable} -m pip install groundhog"
   ]
  },
  {
   "cell_type": "code",
   "execution_count": null,
   "id": "e0400438",
   "metadata": {},
   "outputs": [],
   "source": [
    "# import required libraries and modules\n",
    "import numpy as np\n",
    "import matplotlib.pyplot as plt\n",
    "from groundhog.shallowfoundations import stressdistribution"
   ]
  },
  {
   "cell_type": "code",
   "execution_count": null,
   "id": "58ee9818",
   "metadata": {},
   "outputs": [],
   "source": [
    "# caution! this will suppress all warnings, so use it carefully\n",
    "import warnings\n",
    "warnings.filterwarnings('ignore')"
   ]
  },
  {
   "cell_type": "code",
   "execution_count": null,
   "id": "b5dda19e",
   "metadata": {
    "scrolled": false
   },
   "outputs": [],
   "source": [
    "B = 6.0 # width of stripload in m\n",
    "qs = 200.0 # imposed force per unit area\n",
    "x = np.linspace(0.0,3.0,60) * B # x = distance from left of strip in m\n",
    "z = np.linspace(0.0,5.0,100) * B # z = depth in m\n",
    "X, Z = np.meshgrid(x, z) # grid of x and z locations\n",
    "DSZ = np.zeros(X.shape) # initialize delta sigma z to zeros\n",
    "DSX = np.zeros(X.shape) # initialize delta sigma x to zeros\n",
    "\n",
    "for i in range(X.shape[0]): # for each z\n",
    "    for j in range(X.shape[1]): # for each x\n",
    "        dict = stressdistribution.stresses_stripload(Z[i,j],X[i,j],B,qs) # stress\n",
    "        DSZ[i,j] = dict[\"delta sigma z [kPa]\"] # update delta sigma z\n",
    "        DSX[i,j] = dict[\"delta sigma x [kPa]\"] # update delta sigma x\n",
    "\n",
    "fig, ax = plt.subplots(1, 2, figsize=(10,5)) # make a figure with two plots\n",
    "c_levels = np.linspace(0.0,1.0,11) * qs # contour levels\n",
    "\n",
    "# on left plot\n",
    "im = ax[0].contourf(X,Z,DSZ,levels=c_levels,cmap=\"rainbow\") # draw filled contours\n",
    "plt.colorbar(im, ax=ax[0], label=r\"$\\Delta\\sigma_z$ [kPa]\") # draw colorbar\n",
    "ax[0].axis([0, x[-1], z[-1],0]) # axis limits and invert y axis\n",
    "ax[0].axis(\"scaled\") # make axes equal\n",
    "ax[0].grid(True) # add grid\n",
    "ax[0].set_xlabel(\"x [m]\") # x axis label\n",
    "ax[0].set_ylabel(\"z [m]\") # y axis label\n",
    "\n",
    "# on right plot\n",
    "im = ax[1].contourf(X,Z,DSX,levels=c_levels,cmap=\"rainbow\") # draw filled contours\n",
    "plt.colorbar(im, ax=ax[1], label=r\"$\\Delta\\sigma_x$ [kPa]\") # draw colorbar\n",
    "ax[1].axis([0, x[-1], z[-1],0]) # axis limits and invert y axis\n",
    "ax[1].axis(\"scaled\") # make axes equal\n",
    "ax[1].grid(True) # add grid\n",
    "ax[1].set_xlabel(\"x [m]\") # x axis label\n",
    "ax[1].set_ylabel(\"z [m]\") # y axis label\n",
    "\n",
    "fig.tight_layout(); # fit nicely the plots"
   ]
  },
  {
   "cell_type": "code",
   "execution_count": null,
   "id": "0943243b",
   "metadata": {},
   "outputs": [],
   "source": [
    "fig.savefig(\"strip_load.png\",dpi=300) # save figure as png"
   ]
  }
 ],
 "metadata": {
  "kernelspec": {
   "display_name": "base",
   "language": "python",
   "name": "python3"
  },
  "language_info": {
   "codemirror_mode": {
    "name": "ipython",
    "version": 3
   },
   "file_extension": ".py",
   "mimetype": "text/x-python",
   "name": "python",
   "nbconvert_exporter": "python",
   "pygments_lexer": "ipython3",
   "version": "3.11.5"
  }
 },
 "nbformat": 4,
 "nbformat_minor": 5
}
