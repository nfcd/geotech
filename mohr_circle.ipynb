{
 "cells": [
  {
   "cell_type": "code",
   "execution_count": null,
   "metadata": {},
   "outputs": [],
   "source": [
    "import numpy as np\n",
    "import matplotlib.pyplot as plt\n",
    "# import my class Circle\n",
    "from Circle import Circle"
   ]
  },
  {
   "cell_type": "code",
   "execution_count": null,
   "metadata": {},
   "outputs": [],
   "source": [
    "# Example 3 in folelesning 8\n",
    "# tractions\n",
    "sxx = 621\n",
    "sxy = -414 # clockwise\n",
    "syy = 1035\n",
    "syx = 414 # anticlockwise\n",
    "\n",
    "# construct Mohr Circle\n",
    "circle = Circle([0,0], 1)\n",
    "points = np.array([[sxx,sxy],[syy,syx],[syy,sxy]])\n",
    "circle.fit_three_points(points)\n",
    "x,y = circle.coordinates()\n",
    "\n",
    "# sigma1 and sigma3 values\n",
    "sigma_1 = circle.center[0] + circle.radius\n",
    "sigma_3 = circle.center[0] - circle.radius\n",
    "print(f\"sigma_1 = {sigma_1:.0f} kPa, sigma_3 = {sigma_3:.0f} kPa\")\n",
    "\n",
    "# find the pole to normals\n",
    "pole_normals = circle.chord_endpoint([sxx,sxy], np.radians(180))\n",
    "# find the pole to planes (Ragan, 2009)\n",
    "pole_planes = circle.chord_endpoint([sxx,sxy], np.radians(90)) \n",
    "# find the tractions on plane AE\n",
    "tractions = circle.chord_endpoint(pole_planes, np.radians(225))\n",
    "chord_p = np.array([pole_planes, tractions])\n",
    "print(f\"On plane AE, Normal traction = {tractions[0]:.0f} kPa, shear traction = {tractions[1]:.0f} kPa\")\n",
    "\n",
    "# plot Mohr Circle\n",
    "fig, ax = plt.subplots()\n",
    "# circle\n",
    "ax.plot(x, y, \"k\")\n",
    "# sigma_1 and sigma_3 labels\n",
    "ax.text(sigma_1, 0, r\"$\\sigma_1$\", ha=\"left\", va=\"top\")\n",
    "ax.text(sigma_3, 0, r\"$\\sigma_3$\", ha=\"right\", va=\"top\")\n",
    "# planes\n",
    "ax.plot(sxx, sxy, \"k.\")\n",
    "ax.text(sxx, sxy, \"Px\", ha=\"right\", va=\"top\")\n",
    "ax.plot(syy, syx, \"k.\")\n",
    "ax.text(syy, syx, \"Py\", ha=\"left\", va=\"bottom\")\n",
    "# poles\n",
    "ax.plot(pole_normals[0], pole_normals[1], \"r.\")\n",
    "ax.text(pole_normals[0], pole_normals[1], \"ON\", ha=\"left\", va=\"top\")\n",
    "ax.plot(pole_planes[0], pole_planes[1], \"r.\")\n",
    "ax.text(pole_planes[0], pole_planes[1], \"OP\", ha=\"right\", va=\"bottom\")\n",
    "# tractions on plane AE\n",
    "ax.plot(chord_p[:,0],chord_p[:,1],\"r-\")\n",
    "ax.plot(tractions[0],tractions[1],\"k.\")\n",
    "ax.text(tractions[0],tractions[1],\"AE\", ha=\"right\", va=\"bottom\")\n",
    "\n",
    "# grid\n",
    "ax.grid()\n",
    "# horizontal line at tau = 0\n",
    "ax.axhline(0,color=\"k\",linestyle=\"--\")\n",
    "# axes labels\n",
    "ax.set_xlabel(r\"$\\sigma$ (MPa)\")\n",
    "ax.set_ylabel(r\"$\\tau$ (MPa)\")\n",
    "# axes equal\n",
    "ax.axis(\"equal\")\n",
    "\n",
    "plt.show()"
   ]
  }
 ],
 "metadata": {
  "kernelspec": {
   "display_name": "base",
   "language": "python",
   "name": "python3"
  },
  "language_info": {
   "codemirror_mode": {
    "name": "ipython",
    "version": 3
   },
   "file_extension": ".py",
   "mimetype": "text/x-python",
   "name": "python",
   "nbconvert_exporter": "python",
   "pygments_lexer": "ipython3",
   "version": "3.11.5"
  }
 },
 "nbformat": 4,
 "nbformat_minor": 2
}
