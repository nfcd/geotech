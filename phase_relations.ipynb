{
 "cells": [
  {
   "cell_type": "markdown",
   "metadata": {},
   "source": [
    "# Using my own functions"
   ]
  },
  {
   "cell_type": "code",
   "execution_count": null,
   "metadata": {},
   "outputs": [],
   "source": [
    "def e_from_porosity(n):\n",
    "    '''\n",
    "    Calculate void ratio from porosity\n",
    "    '''\n",
    "    e = n / (1 - n)\n",
    "    return e\n",
    "\n",
    "def porosity_from_e(e):\n",
    "    '''\n",
    "    Calculate porosity from void ratio\n",
    "    '''\n",
    "    n = e / (1 + e)\n",
    "    return n\n",
    "\n",
    "def gamma_d_from_gamma_s(gamma_s, e):\n",
    "    '''\n",
    "    Calculate dry unit weight from unit weight of solids and void ratio\n",
    "    '''\n",
    "    gamma_d = gamma_s / (1 + e)\n",
    "    return gamma_d\n",
    "\n",
    "def gamma_from_e(e, gamma_s, w):\n",
    "    '''\n",
    "    Calculate unit weight from void ratio,\n",
    "    unit weight of solids, and water content\n",
    "    '''\n",
    "    gamma = gamma_s * (1 + w) / (1 + e)\n",
    "    return gamma\n",
    "\n",
    "def e_from_gamma_s(gamma_s,w,S_r,gamma_w):\n",
    "    '''\n",
    "    Calculate void ratio from unit weight of solids,\n",
    "    water content, saturation, and unit weight of water\n",
    "    '''\n",
    "    e = (w * gamma_s) / (S_r * gamma_w)\n",
    "    return e\n",
    "\n",
    "def porosity_from_gamma(gamma, gamma_s, w):\n",
    "    '''\n",
    "    Calculate porosity from unit weight,\n",
    "    unit weight of solids, and water content\n",
    "    '''\n",
    "    n = 1 - (gamma / (gamma_s * (1 + w)))\n",
    "    return n"
   ]
  },
  {
   "cell_type": "code",
   "execution_count": null,
   "metadata": {},
   "outputs": [],
   "source": [
    "# make a plot of porosity versus void ratio\n",
    "import numpy as np\n",
    "import matplotlib.pyplot as plt\n",
    "\n",
    "n = np.arange(0, 1, 0.1)\n",
    "e = e_from_porosity(n)\n",
    "\n",
    "plt.plot(n*100, e, 'ks-')\n",
    "plt.xlabel('Porosity %')\n",
    "plt.ylabel('Void Ratio')\n",
    "plt.axis([0, 100, 0, 10])\n",
    "plt.grid(True)\n",
    "\n",
    "plt.show()"
   ]
  },
  {
   "cell_type": "code",
   "execution_count": null,
   "metadata": {},
   "outputs": [],
   "source": [
    "# Solve this problem:\n",
    "# Given w = 30%, gamma_s = 28 kN/m^3, S_r = 100%\n",
    "# Calculate void ratio, gamma, and porosity\n",
    "\n",
    "# Given values\n",
    "w = 0.3\n",
    "gamma_s = 28\n",
    "S_r = 1\n",
    "gamma_w = 9.81 # unit weight of water in kN/m^3\n",
    "\n",
    "# Calculate void ratio\n",
    "e = e_from_gamma_s(gamma_s, w, S_r, gamma_w)\n",
    "print(f'Void ratio = {e:.2f}')\n",
    "\n",
    "# Calculate unit weight\n",
    "gamma = gamma_from_e(e, gamma_s, w)\n",
    "print(f'Unit weight = {gamma:.2f} kN/m^3')\n",
    "\n",
    "# Calculate porosity\n",
    "n = porosity_from_gamma(gamma, gamma_s, w)\n",
    "print(f'Porosity = {n*100:.2f}%')"
   ]
  },
  {
   "cell_type": "code",
   "execution_count": null,
   "metadata": {},
   "outputs": [],
   "source": [
    "# Solve this problem:\n",
    "# Sand with large water content, low gamma and high gamma_s: \n",
    "# w = 35%, gamma = 19 kN/m^3, gamma_s = 28.5 kN/m^3\n",
    "# Calculate porosity, void ratio, and dry unit weight\n",
    "\n",
    "# Given values\n",
    "w = 0.35\n",
    "gamma = 19\n",
    "gamma_s = 28.5\n",
    "\n",
    "# Calculate porosity\n",
    "n = porosity_from_gamma(gamma, gamma_s, w)\n",
    "print(f'Porosity = {n*100:.2f}%')\n",
    "\n",
    "# Calculate void ratio\n",
    "e = e_from_porosity(n)\n",
    "print(f'Void ratio = {e:.2f}')\n",
    "\n",
    "# Calculate dry unit weight\n",
    "gamma_d = gamma_d_from_gamma_s(gamma_s, e)\n",
    "print(f'Dry unit weight = {gamma_d:.2f} kN/m^3')"
   ]
  },
  {
   "cell_type": "code",
   "execution_count": null,
   "metadata": {},
   "outputs": [],
   "source": [
    "# Solve this problem:\n",
    "# Sand with low water content, high gamma, and low gamma_s: \n",
    "# w = 18%, gamma = 21 kN/m^3, gamma_s = 26.5 kN/m^3\n",
    "# Calculate porosity, void ratio, and dry unit weight\n",
    "\n",
    "# Given values\n",
    "w = 0.18\n",
    "gamma = 21\n",
    "gamma_s = 26.5\n",
    "\n",
    "# Calculate porosity\n",
    "n = porosity_from_gamma(gamma, gamma_s, w)\n",
    "print(f'Porosity = {n*100:.2f}%')\n",
    "\n",
    "# Calculate void ratio\n",
    "e = e_from_porosity(n)\n",
    "print(f'Void ratio = {e:.2f}')\n",
    "\n",
    "# Calculate dry unit weight\n",
    "gamma_d = gamma_d_from_gamma_s(gamma_s, e)\n",
    "print(f'Dry unit weight = {gamma_d:.2f} kN/m^3')"
   ]
  },
  {
   "cell_type": "markdown",
   "metadata": {},
   "source": [
    "# Using Groundhog\n",
    "\n",
    "Groundhog is available [here](https://github.com/snakesonabrain/groundhog).\n",
    "\n",
    "Solve the problem in [this link](https://hackernoon.com/using-python-in-geotechnical-engineering):"
   ]
  },
  {
   "cell_type": "code",
   "execution_count": null,
   "metadata": {},
   "outputs": [],
   "source": [
    "# Run this cell if you have not installed Groundhog\n",
    "import sys\n",
    "!{sys.executable} -m pip install groundhog"
   ]
  },
  {
   "cell_type": "code",
   "execution_count": null,
   "metadata": {},
   "outputs": [],
   "source": [
    "# Import phaserelations module\n",
    "from groundhog.siteinvestigation.classification import phaserelations"
   ]
  },
  {
   "cell_type": "code",
   "execution_count": null,
   "metadata": {},
   "outputs": [],
   "source": [
    "# Define variables\n",
    "\n",
    "# saturation (S)\n",
    "S = 1.0\n",
    "\n",
    "# weight of sample and container in Newton (N)\n",
    "w_s_c = 6.0\n",
    "\n",
    "# weight of dry sample and container in Newton (N)\n",
    "w_ds_c = 5.0\n",
    "\n",
    "# weight of container in Newton (N)\n",
    "w_c = 1.0\n",
    "\n",
    "# specific gravity of soil solids (Gs)\n",
    "Gs = 2.7\n",
    "\n",
    "# unit weight of water in kN/m^3\n",
    "gamma_w = 9.81"
   ]
  },
  {
   "cell_type": "code",
   "execution_count": null,
   "metadata": {},
   "outputs": [],
   "source": [
    "# calculate the weight of water in Newton (N)\n",
    "w_w = w_s_c - w_ds_c\n",
    "\n",
    "# calculate the weight of solids in Newton (N)\n",
    "w_s = w_ds_c - w_c\n",
    "\n",
    "# calculate the water content (w)\n",
    "w = w_w / w_s\n",
    "\n",
    "# calculate the voild ratio (e) using the function\n",
    "# voidratio_watercontent(w, S, Gs)\n",
    "phaserelations.voidratio_watercontent(w, S, Gs)"
   ]
  },
  {
   "cell_type": "code",
   "execution_count": null,
   "metadata": {},
   "outputs": [],
   "source": [
    "# extract the void ratio (e) from the function's output\n",
    "# which is a dictionary with the key 'Void ratio [-]'\n",
    "e = phaserelations.voidratio_watercontent(w, S, Gs)['Void ratio [-]']\n",
    "print(f'The void ratio is {e:.4f}')"
   ]
  },
  {
   "cell_type": "code",
   "execution_count": null,
   "metadata": {},
   "outputs": [],
   "source": [
    "# compute the bulk unit weight and effective unit weight\n",
    "# using the function bulkunitweight(S, e, Gs, gamma_w)\n",
    "phaserelations.bulkunitweight(S, e, Gs, gamma_w)"
   ]
  },
  {
   "cell_type": "code",
   "execution_count": null,
   "metadata": {},
   "outputs": [],
   "source": [
    "# extract the bulk unit weight and effective unit weight \n",
    "# from the function's output which is a dictionary with the keys\n",
    "# 'bulk unit weight [kN/m3]' and 'effective unit weight [kN/m3]'\n",
    "dict = phaserelations.bulkunitweight(S, e, Gs, gamma_w)\n",
    "gamma_b = dict['bulk unit weight [kN/m3]']\n",
    "gamma_e = dict['effective unit weight [kN/m3]']\n",
    "print(f'The bulk unit weight is {gamma_b:.4f} kN/m3')\n",
    "print(f'The effective unit weight is {gamma_e:.4f} kN/m3')"
   ]
  },
  {
   "cell_type": "code",
   "execution_count": null,
   "metadata": {},
   "outputs": [],
   "source": [
    "# compute the dry unit weight using the function\n",
    "# dryunitweight_watercontent(w, gamma_b)\n",
    "phaserelations.dryunitweight_watercontent(w, gamma_b)"
   ]
  },
  {
   "cell_type": "code",
   "execution_count": null,
   "metadata": {},
   "outputs": [],
   "source": [
    "# extract the dry unit weight from the function's output\n",
    "# which is a dictionary with the key 'dry unit weight [kN/m3]'\n",
    "gamma_d = phaserelations.dryunitweight_watercontent(w, gamma_b)['dry unit weight [kN/m3]']\n",
    "print(f'The dry unit weight is {gamma_d:.4f} kN/m3')"
   ]
  }
 ],
 "metadata": {
  "kernelspec": {
   "display_name": "base",
   "language": "python",
   "name": "python3"
  },
  "language_info": {
   "codemirror_mode": {
    "name": "ipython",
    "version": 3
   },
   "file_extension": ".py",
   "mimetype": "text/x-python",
   "name": "python",
   "nbconvert_exporter": "python",
   "pygments_lexer": "ipython3",
   "version": "3.11.5"
  }
 },
 "nbformat": 4,
 "nbformat_minor": 4
}
