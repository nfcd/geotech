{
 "cells": [
  {
   "cell_type": "code",
   "execution_count": null,
   "metadata": {},
   "outputs": [],
   "source": [
    "import numpy as np\n",
    "import matplotlib.pyplot as plt"
   ]
  },
  {
   "cell_type": "code",
   "execution_count": null,
   "metadata": {},
   "outputs": [],
   "source": [
    "# Lecture 9, example 1: oedometer test\n",
    "\n",
    "# input data\n",
    "# settlements in mm\n",
    "delta = np.array([0, 0.25, 0.50, 1.0, 1.69, 2.1, 2.38, 2.61])\n",
    "# stresses in kPa\n",
    "sigma = np.array([0.0, 25, 50, 100, 200, 300, 400, 500])\n",
    "length = 20 # length of the sample in mm"
   ]
  },
  {
   "cell_type": "code",
   "execution_count": null,
   "metadata": {},
   "outputs": [],
   "source": [
    "# compute strain\n",
    "epsilon = delta / length\n",
    "# compute d_epsilon\n",
    "d_epsilon = np.diff(epsilon)\n",
    "# compute d_sigma\n",
    "d_sigma = np.diff(sigma)\n",
    "# compute M\n",
    "M = d_sigma / d_epsilon\n",
    "\n",
    "# plot\n",
    "fig, ax = plt.subplots(2, 1, figsize=(6, 8))\n",
    "ax[0].plot(sigma, epsilon*100, 'ko-')\n",
    "ax[0].set_xlabel(r\"$\\sigma'$ (kPa)\")\n",
    "ax[0].set_ylabel(r'$\\varepsilon$ [%]')\n",
    "# mark x-axis on top\n",
    "ax[0].xaxis.tick_top()\n",
    "ax[0].xaxis.set_label_position('top')\n",
    "# x-axis limits\n",
    "ax[0].set_xlim([0, 600])\n",
    "# y-axis limits\n",
    "ax[0].set_ylim([14, 0])\n",
    "# grid\n",
    "ax[0].grid(True)\n",
    "\n",
    "ax[1].plot(sigma[1:], M, 'ko-')\n",
    "ax[1].set_xlabel(r\"$\\sigma'$ (kPa)\")\n",
    "ax[1].set_ylabel(r'$M$ (kPa)')\n",
    "# x-axis limits\n",
    "ax[1].set_xlim([0, 600])\n",
    "# y-axis limits\n",
    "ax[1].set_ylim([0, 10000])\n",
    "# grid\n",
    "ax[1].grid(True)\n",
    "\n",
    "plt.tight_layout()\n",
    "plt.show()"
   ]
  }
 ],
 "metadata": {
  "kernelspec": {
   "display_name": "base",
   "language": "python",
   "name": "python3"
  },
  "language_info": {
   "codemirror_mode": {
    "name": "ipython",
    "version": 3
   },
   "file_extension": ".py",
   "mimetype": "text/x-python",
   "name": "python",
   "nbconvert_exporter": "python",
   "pygments_lexer": "ipython3",
   "version": "3.11.5"
  }
 },
 "nbformat": 4,
 "nbformat_minor": 2
}
