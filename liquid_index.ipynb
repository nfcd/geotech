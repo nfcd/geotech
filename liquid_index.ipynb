{
 "cells": [
  {
   "cell_type": "code",
   "execution_count": null,
   "metadata": {},
   "outputs": [],
   "source": [
    "import numpy as np\n",
    "import matplotlib.pyplot as plt\n",
    "\n",
    "# Exercise 2.5 of Aarhaug's Geoteknikk\n",
    "\n",
    "# Number of blows N\n",
    "N = np.array([16, 20, 33])\n",
    "\n",
    "# Water content w (%) at these blows\n",
    "w = np.array([45.5, 41.5, 31.6])\n",
    "\n",
    "# Fit a line to the data\n",
    "# x = log(N), y = w\n",
    "x = np.log(N)\n",
    "y = w\n",
    "m, c = np.polyfit(x, y, 1)\n",
    "\n",
    "# Calculate the water content at N = 25\n",
    "# this is the liquid limit\n",
    "w_l = m * np.log(25) + c\n",
    "\n",
    "# plot the data\n",
    "plt.plot(N, w, 'ko')\n",
    "# plot the line\n",
    "plt.plot(N, m * np.log(N) + c, 'b-')\n",
    "# x and y tick values\n",
    "x_ticks = np.arange(10, 50, 10)\n",
    "y_ticks = np.arange(30, 48, 2)\n",
    "# plot a dashed line to indicate the liquid limit\n",
    "plt.plot([25, 25,x_ticks[0]], [y_ticks[0], w_l, w_l], 'k--')\n",
    "# plot the liquid limit value\n",
    "plt.text(25, w_l, f\"$w_L$ = {w_l:.1f}%\", va='bottom', ha='left')\n",
    "\n",
    "# x axis \n",
    "plt.xscale('log')\n",
    "plt.xlim(x_ticks[0], x_ticks[-1])\n",
    "plt.xticks(x_ticks, x_ticks)\n",
    "plt.xlabel('Antall slag, N')\n",
    "\n",
    "# y axis\n",
    "plt.ylim(y_ticks[0], y_ticks[-1])\n",
    "plt.yticks(y_ticks, y_ticks)\n",
    "plt.ylabel('Vanninnhold, w (%)')\n",
    "\n",
    "# grid\n",
    "plt.grid(which='both')\n",
    "\n",
    "plt.show()"
   ]
  }
 ],
 "metadata": {
  "kernelspec": {
   "display_name": "base",
   "language": "python",
   "name": "python3"
  },
  "language_info": {
   "codemirror_mode": {
    "name": "ipython",
    "version": 3
   },
   "file_extension": ".py",
   "mimetype": "text/x-python",
   "name": "python",
   "nbconvert_exporter": "python",
   "pygments_lexer": "ipython3",
   "version": "3.11.5"
  }
 },
 "nbformat": 4,
 "nbformat_minor": 4
}
